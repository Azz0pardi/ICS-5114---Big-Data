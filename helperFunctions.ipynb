{
 "cells": [
  {
   "cell_type": "code",
   "execution_count": 3,
   "metadata": {},
   "outputs": [
    {
     "data": {
      "text/plain": [
       "'2013/12/29'"
      ]
     },
     "execution_count": 3,
     "metadata": {},
     "output_type": "execute_result"
    }
   ],
   "source": [
    "def process_date(date_str):\n",
    "    better_date = {}\n",
    "    better_date[\"year\"] = date_str[0:4]\n",
    "    better_date[\"month\"] = date_str[4:6]\n",
    "    better_date[\"day\"] = date_str[6:9]\n",
    "    better_date[\"full\"] = better_date[\"year\"] + '/'+  better_date[\"month\"] + '/'+ better_date[\"day\"]\n",
    "    return better_date\n",
    "\n",
    "process_date(\"20131229\")[\"full\"]\n"
   ]
  },
  {
   "cell_type": "code",
   "execution_count": 4,
   "metadata": {},
   "outputs": [
    {
     "data": {
      "text/plain": [
       "{'year': '2019', 'month': '02', 'day': '02', 'full': '2019/02/02'}"
      ]
     },
     "execution_count": 4,
     "metadata": {},
     "output_type": "execute_result"
    }
   ],
   "source": [
    "def de_process_date(date_str):\n",
    "    better_date = {}\n",
    "    better_date[\"year\"] = date_str[0:4]\n",
    "    better_date[\"month\"] = date_str[5:7]\n",
    "    better_date[\"day\"] = date_str[8:10]\n",
    "    better_date[\"full\"] = better_date[\"year\"] + '/'+  better_date[\"month\"] + '/'+ better_date[\"day\"]\n",
    "    return better_date\n",
    "de_process_date(\"2019/02/02\")"
   ]
  },
  {
   "cell_type": "code",
   "execution_count": 5,
   "metadata": {},
   "outputs": [
    {
     "data": {
      "text/plain": [
       "-2923031"
      ]
     },
     "execution_count": 5,
     "metadata": {},
     "output_type": "execute_result"
    }
   ],
   "source": [
    "from datetime import datetime\n",
    "\n",
    "def date_difference(old_date, new_date):\n",
    "    dt1 = datetime.strptime(old_date, \"%Y/%m/%d\")\n",
    "    dt2 = datetime.strptime(new_date, \"%Y/%m/%d\")\n",
    "    delta = dt2 - dt1\n",
    "    return delta.days\n",
    "\n",
    "date_difference(\"9999/05/02\",\"1996/05/06\")"
   ]
  },
  {
   "cell_type": "markdown",
   "metadata": {},
   "source": [
    "date_legitamacy_checker was previously being used to process dates in an older dataset, the dataset contained dates with 99's for unknown values, in order to make proper use of such dates, the 99's were translated to 01. "
   ]
  },
  {
   "cell_type": "code",
   "execution_count": 7,
   "metadata": {},
   "outputs": [
    {
     "data": {
      "text/plain": [
       "'9999/01/01'"
      ]
     },
     "execution_count": 7,
     "metadata": {},
     "output_type": "execute_result"
    }
   ],
   "source": [
    "def date_legitamacy_checker(date, isString = False):\n",
    "    processed_date = de_process_date(date)\n",
    "    \n",
    "    if(processed_date[\"month\"] == \"99\"):\n",
    "        processed_date[\"month\"] = \"01\"\n",
    "        \n",
    "    if(processed_date[\"day\"] == \"99\"):\n",
    "        processed_date[\"day\"] = \"01\"\n",
    "    \n",
    "    if(isString):\n",
    "        return processed_date[\"year\"] + '/' + processed_date[\"month\"]  + '/' + processed_date[\"day\"]\n",
    "    return processed_date\n",
    "\n",
    "date_legitamacy_checker(\"9999/99/99\", True)"
   ]
  }
 ],
 "metadata": {
  "interpreter": {
   "hash": "38c80501d2b2e4a9d6df779588d376b0530846b06a79a3e25422ca44224fd643"
  },
  "kernelspec": {
   "display_name": "Python 3.9.13 64-bit (windows store)",
   "language": "python",
   "name": "python3"
  },
  "language_info": {
   "codemirror_mode": {
    "name": "ipython",
    "version": 3
   },
   "file_extension": ".py",
   "mimetype": "text/x-python",
   "name": "python",
   "nbconvert_exporter": "python",
   "pygments_lexer": "ipython3",
   "version": "3.9.13"
  },
  "orig_nbformat": 4
 },
 "nbformat": 4,
 "nbformat_minor": 2
}
