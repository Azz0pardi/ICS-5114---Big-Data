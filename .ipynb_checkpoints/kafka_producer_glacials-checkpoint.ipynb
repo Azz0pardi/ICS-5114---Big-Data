{
 "cells": [
  {
   "cell_type": "code",
   "execution_count": 16,
   "id": "2720edb6",
   "metadata": {},
   "outputs": [
    {
     "name": "stdout",
     "output_type": "stream",
     "text": [
      "Connected\n"
     ]
    }
   ],
   "source": [
    "import json\n",
    "import threading\n",
    "\n",
    "from kafka import KafkaProducer\n",
    "producer = KafkaProducer(bootstrap_servers='localhost:9092',\n",
    "                         value_serializer=lambda x: json.dumps(x).encode('utf-8'),key_serializer=lambda s: s.encode('utf-8'))\n",
    "print(\"Connected\")"
   ]
  },
  {
   "cell_type": "code",
   "execution_count": 17,
   "id": "c4dc7806",
   "metadata": {},
   "outputs": [],
   "source": [
    "\n",
    "def create_glacial_record(rgiid, time, area, dh, err_dh):\n",
    "    record = {}\n",
    "    record['rgiid'] = rgiid\n",
    "    record['time'] = time\n",
    "    record['area'] = area\n",
    "    record['dh'] = dh\n",
    "    record['err_dh'] = err_dh    \n",
    "    return record\n",
    "\n",
    "def nullifier(row, row_title):\n",
    "    if(row[row_title] != \"\"):\n",
    "        return float(row[row_title])\n",
    "    else:\n",
    "        return None\n",
    "    \n",
    "def create_list_of_glacial_records(current_records, row):\n",
    "    name = row[\"rgiid\"]\n",
    "    time = row[\"time\"]\n",
    "    area = nullifier(row,\"area\")\n",
    "    dh = nullifier(row, \"dh\")\n",
    "    err_dh = nullifier(row,\"err_dh\")\n",
    "\n",
    "    current_records.append(create_glacial_record(name,time,area,dh, err_dh))\n",
    "    return current_records    "
   ]
  },
  {
   "cell_type": "code",
   "execution_count": 18,
   "id": "fce64eb2",
   "metadata": {},
   "outputs": [],
   "source": [
    "import csv \n",
    "def sender(topic, csv_file):\n",
    "    with open(csv_file) as csvfile:\n",
    "        reader = csv.DictReader(csvfile)\n",
    "        records = []\n",
    "        for index, row in enumerate(reader):\n",
    "            # skip header\n",
    "            if index != 0:\n",
    "                records = create_list_of_glacial_records(records, row)\n",
    "    print(records)\n",
    "\n",
    "    for record in records:\n",
    "        producer.send(topic, record, key=record['rgiid'])\n",
    "            \n",
    "    producer.flush()\n",
    "\n",
    "    "
   ]
  },
  {
   "cell_type": "code",
   "execution_count": 1,
   "id": "73de2ab6",
   "metadata": {},
   "outputs": [
    {
     "ename": "NameError",
     "evalue": "name 'threading' is not defined",
     "output_type": "error",
     "traceback": [
      "\u001b[1;31m---------------------------------------------------------------------------\u001b[0m",
      "\u001b[1;31mNameError\u001b[0m                                 Traceback (most recent call last)",
      "\u001b[1;32mc:\\Users\\Daniel\\Desktop\\ICS 5114 - Big Data\\kafka_producer_glacials.ipynb Cell 4'\u001b[0m in \u001b[0;36m<cell line: 2>\u001b[1;34m()\u001b[0m\n\u001b[0;32m      <a href='vscode-notebook-cell:/c%3A/Users/Daniel/Desktop/ICS%205114%20-%20Big%20Data/kafka_producer_glacials.ipynb#ch0000003?line=0'>1</a>\u001b[0m \u001b[39m# create two different threads \u001b[39;00m\n\u001b[1;32m----> <a href='vscode-notebook-cell:/c%3A/Users/Daniel/Desktop/ICS%205114%20-%20Big%20Data/kafka_producer_glacials.ipynb#ch0000003?line=1'>2</a>\u001b[0m thread_1 \u001b[39m=\u001b[39m threading\u001b[39m.\u001b[39mThread(target\u001b[39m=\u001b[39msender, args\u001b[39m=\u001b[39m(\u001b[39m\"\u001b[39m\u001b[39mICS5114-iceland\u001b[39m\u001b[39m\"\u001b[39m, \u001b[39m\"\u001b[39m\u001b[39miceland.csv\u001b[39m\u001b[39m\"\u001b[39m))\n\u001b[0;32m      <a href='vscode-notebook-cell:/c%3A/Users/Daniel/Desktop/ICS%205114%20-%20Big%20Data/kafka_producer_glacials.ipynb#ch0000003?line=2'>3</a>\u001b[0m thread_2 \u001b[39m=\u001b[39m threading\u001b[39m.\u001b[39mThread(target\u001b[39m=\u001b[39msender, args\u001b[39m=\u001b[39m(\u001b[39m\"\u001b[39m\u001b[39mICS5114-europe\u001b[39m\u001b[39m\"\u001b[39m,\u001b[39m\"\u001b[39m\u001b[39meurope.csv\u001b[39m\u001b[39m\"\u001b[39m))\n\u001b[0;32m      <a href='vscode-notebook-cell:/c%3A/Users/Daniel/Desktop/ICS%205114%20-%20Big%20Data/kafka_producer_glacials.ipynb#ch0000003?line=4'>5</a>\u001b[0m thread_1\u001b[39m.\u001b[39mstart()\n",
      "\u001b[1;31mNameError\u001b[0m: name 'threading' is not defined"
     ]
    }
   ],
   "source": [
    "# create two different threads \n",
    "thread_1 = threading.Thread(target=sender, args=(\"ICS5114-iceland\", \"iceland.csv\"))\n",
    "thread_2 = threading.Thread(target=sender, args=(\"ICS5114-europe\",\"europe.csv\"))\n",
    "\n",
    "thread_1.start()\n",
    "thread_2.start()\n",
    "\n",
    "thread_1.join()\n",
    "thread_2.join()"
   ]
  }
 ],
 "metadata": {
  "interpreter": {
   "hash": "38c80501d2b2e4a9d6df779588d376b0530846b06a79a3e25422ca44224fd643"
  },
  "kernelspec": {
   "display_name": "Python 3 (ipykernel)",
   "language": "python",
   "name": "python3"
  },
  "language_info": {
   "codemirror_mode": {
    "name": "ipython",
    "version": 3
   },
   "file_extension": ".py",
   "mimetype": "text/x-python",
   "name": "python",
   "nbconvert_exporter": "python",
   "pygments_lexer": "ipython3",
   "version": "3.9.12"
  }
 },
 "nbformat": 4,
 "nbformat_minor": 5
}
