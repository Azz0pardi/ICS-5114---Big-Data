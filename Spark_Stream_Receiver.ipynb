{
 "cells": [
  {
   "cell_type": "code",
   "execution_count": null,
   "metadata": {},
   "outputs": [
    {
     "name": "stdout",
     "output_type": "stream",
     "text": [
      "processing....\n",
      "current elevation change average : 0\n",
      "processing....\n",
      "current elevation change average : -4.0470805691978144\n",
      "processing....\n",
      "current elevation change average : -4.641864895863084\n"
     ]
    }
   ],
   "source": [
    "import findspark\n",
    "findspark.init()\n",
    "\n",
    "from pyspark.sql import SparkSession\n",
    "from pyspark.sql.functions import *\n",
    "from pyspark.ml.feature import Normalizer, StandardScaler\n",
    "import random\n",
    "import logging\n",
    "import time\n",
    "import json\n",
    "from datetime import datetime\n",
    "\n",
    "from pymongo import MongoClient\n",
    "client = MongoClient('localhost', 27017)\n",
    "\n",
    "db = client.ICS5114\n",
    "collection = db.glacial_collection\n",
    "\n",
    "kafka_topic_name = \"ICS5114\"\n",
    "kafka_bootstrap_servers = 'localhost:9092'\n",
    "\n",
    "total_docs = 0\n",
    "current_total_dh = 0\n",
    "average_dh = 0\n",
    "\n",
    "spark = SparkSession \\\n",
    "        .builder \\\n",
    "        .appName(\"Structured Streaming \") \\\n",
    "        .master(\"local[*]\") \\\n",
    "        .getOrCreate()\n",
    "\n",
    "spark.sparkContext.setLogLevel(\"ERROR\")\n",
    "\n",
    "# streaming df, reading from ICS5114 topic\n",
    "kafka_df = spark \\\n",
    "        .readStream \\\n",
    "        .format(\"kafka\") \\\n",
    "        .option(\"kafka.bootstrap.servers\", kafka_bootstrap_servers) \\\n",
    "        .option(\"failOnDataLoss\", \"false\") \\\n",
    "        .option(\"subscribe\", kafka_topic_name) \\\n",
    "        .option(\"startingOffsets\", \"latest\") \\\n",
    "        .option(\"spark.streaming.kafka.maxRatePerPartition\", \"10\") \\\n",
    "        .load()\n",
    "\n",
    "def data_process(df, batch_id):\n",
    "    global average_dh, total_docs, current_total_dh\n",
    "    print(\"processing....\")\n",
    "    kafka_req = df.rdd.map(lambda x: x.value).collect()\n",
    "    for record in kafka_req:\n",
    "        new_json_record = json.loads(record.decode(\"utf-8\"))\n",
    "        collection.insert_one(new_json_record)  \n",
    "        total_docs = total_docs + 1\n",
    "        current_total_dh = current_total_dh + new_json_record[\"dh\"]\n",
    "        average_dh = current_total_dh/total_docs\n",
    "    print(\"current elevation change average : \" + str(average_dh) )\n",
    "\n",
    "\n",
    "k_df = kafka_df.writeStream \\\n",
    "    .foreachBatch(data_process) \\\n",
    "    .trigger(processingTime=\"5 seconds\") \\\n",
    "    .start() \\\n",
    "    .awaitTermination()\n",
    "\n",
    "  \n",
    "# foreach method is not supported in python, the forEachBatch method was used instead --\n",
    "# def row_process(row):\n",
    "#     print(row)\n",
    "    \n",
    "# k_w = (kafka_df.writeStream \\\n",
    "#     .foreach(row_process) \\\n",
    "#     .trigger(processingTime=\"1 second\") \\\n",
    "#     .start() \\\n",
    "#     .awaitTermination())\n",
    "# ---------------------------------------------------------------------------------------"
   ]
  },
  {
   "cell_type": "code",
   "execution_count": null,
   "metadata": {},
   "outputs": [],
   "source": []
  }
 ],
 "metadata": {
  "kernelspec": {
   "display_name": "Python 3 (ipykernel)",
   "language": "python",
   "name": "python3"
  },
  "language_info": {
   "codemirror_mode": {
    "name": "ipython",
    "version": 3
   },
   "file_extension": ".py",
   "mimetype": "text/x-python",
   "name": "python",
   "nbconvert_exporter": "python",
   "pygments_lexer": "ipython3",
   "version": "3.9.12"
  }
 },
 "nbformat": 4,
 "nbformat_minor": 2
}
